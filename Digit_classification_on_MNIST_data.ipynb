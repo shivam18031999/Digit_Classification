{
 "cells": [
  {
   "cell_type": "markdown",
   "metadata": {},
   "source": [
    "# Implementing Neural Network on MNIST data using TensorFlow"
   ]
  },
  {
   "cell_type": "code",
   "execution_count": 1,
   "metadata": {},
   "outputs": [],
   "source": [
    "# importing tensor flow\n",
    "import tensorflow as tf"
   ]
  },
  {
   "cell_type": "code",
   "execution_count": 3,
   "metadata": {},
   "outputs": [
    {
     "name": "stdout",
     "output_type": "stream",
     "text": [
      "Extracting MNIST_data/train-images-idx3-ubyte.gz\n",
      "Extracting MNIST_data/train-labels-idx1-ubyte.gz\n",
      "Extracting MNIST_data/t10k-images-idx3-ubyte.gz\n",
      "Extracting MNIST_data/t10k-labels-idx1-ubyte.gz\n"
     ]
    }
   ],
   "source": [
    "# importing mnist data from tensor flow\n",
    "from tensorflow.examples.tutorials.mnist import input_data\n",
    "mnist=input_data.read_data_sets(\"MNIST_data/\",one_hot=True)"
   ]
  },
  {
   "cell_type": "code",
   "execution_count": 4,
   "metadata": {
    "scrolled": true
   },
   "outputs": [
    {
     "data": {
      "text/plain": [
       "(array([[0., 0., 0., ..., 0., 0., 0.],\n",
       "        [0., 0., 0., ..., 0., 0., 0.],\n",
       "        [0., 0., 0., ..., 0., 0., 0.],\n",
       "        ...,\n",
       "        [0., 0., 0., ..., 0., 0., 0.],\n",
       "        [0., 0., 0., ..., 0., 0., 0.],\n",
       "        [0., 0., 0., ..., 0., 0., 0.]], dtype=float32),\n",
       " array([[0., 0., 0., ..., 1., 0., 0.],\n",
       "        [0., 0., 0., ..., 0., 0., 0.],\n",
       "        [0., 0., 0., ..., 0., 0., 0.],\n",
       "        ...,\n",
       "        [0., 0., 0., ..., 0., 0., 0.],\n",
       "        [0., 0., 0., ..., 0., 0., 0.],\n",
       "        [0., 0., 0., ..., 0., 1., 0.]]))"
      ]
     },
     "execution_count": 4,
     "metadata": {},
     "output_type": "execute_result"
    }
   ],
   "source": [
    "# how data look likes \n",
    "mnist.train.images,mnist.train.labels"
   ]
  },
  {
   "cell_type": "markdown",
   "metadata": {},
   "source": [
    "# How an image looks like "
   ]
  },
  {
   "cell_type": "code",
   "execution_count": 5,
   "metadata": {},
   "outputs": [],
   "source": [
    "import numpy as np\n",
    "from matplotlib import pyplot as plt"
   ]
  },
  {
   "cell_type": "code",
   "execution_count": 6,
   "metadata": {},
   "outputs": [
    {
     "data": {
      "text/plain": [
       "<matplotlib.image.AxesImage at 0x25728e02390>"
      ]
     },
     "execution_count": 6,
     "metadata": {},
     "output_type": "execute_result"
    },
    {
     "data": {
      "image/png": "[encoded data removed]",
      "text/plain": [
       "<Figure size 432x288 with 1 Axes>"
      ]
     },
     "metadata": {
      "needs_background": "light"
     },
     "output_type": "display_data"
    }
   ],
   "source": [
    "# checking one of the image by reshaping it from 784 pixel to a 28*28 pixel image\n",
    "first=mnist.train.images[0]\n",
    "first=first.reshape((28,28))\n",
    "plt.imshow(first)"
   ]
  },
  {
   "cell_type": "code",
   "execution_count": 7,
   "metadata": {},
   "outputs": [],
   "source": [
    "# initializing weigts and bias for the network\n",
    "# taking 256 units in both hidden1 and hidden2 layer and 10 units in output layer \n",
    "n_input=784\n",
    "n_hidden1=256\n",
    "n_hidden2=256\n",
    "n_output=10\n",
    "weight={\n",
    "    'h1': tf.Variable(tf.random_normal([n_input,n_hidden1])),\n",
    "    'h2':tf.Variable(tf.random_normal([n_hidden1,n_hidden2])),\n",
    "    'out':tf.Variable(tf.random_normal([n_hidden2,n_output]))\n",
    "}\n",
    "bias={\n",
    "     'h1': tf.Variable(tf.random_normal([n_hidden1])),\n",
    "    'h2':tf.Variable(tf.random_normal([n_hidden2])),\n",
    "    'out':tf.Variable(tf.random_normal([n_output]))\n",
    "}"
   ]
  },
  {
   "cell_type": "code",
   "execution_count": 8,
   "metadata": {},
   "outputs": [],
   "source": [
    "# forward propogation function\n",
    "# takes 3 argument [ x = input data of size n*784 where n is number of images , weight , bias]\n",
    "# return output of shape n*10 \n",
    "def forward_propogation(x , weight , bias):\n",
    "    \n",
    "    input_first_hidden = tf.add( tf.matmul(x , weight['h1']),bias['h1'])\n",
    "    outputof_first_hidden = tf.nn.relu(input_first_hidden)\n",
    "    \n",
    "    input_second_hidden = tf.add( tf.matmul(outputof_first_hidden , weight['h2'] ),bias['h2'])\n",
    "    outputof_second_hidden = tf.nn.relu(input_second_hidden)\n",
    "    \n",
    "    final_output = tf.add( tf.matmul(outputof_second_hidden, weight['out']), bias['out'])\n",
    "    return final_output"
   ]
  },
  {
   "cell_type": "code",
   "execution_count": 9,
   "metadata": {},
   "outputs": [],
   "source": [
    "# input_ is placeholder for input data of shape n*784 where n is number of images \n",
    "# size of n can be decided at run time as it is different for training data and testing data\n",
    "# true_output is placeholder for actual output corrosponds to input_ data , its shape is n*10 \n",
    "# where n is number of images input\n",
    "# predicted_output is the output of network \n",
    " \n",
    "input_ = tf.placeholder(\"float\",[None,784])\n",
    "true_output = tf.placeholder(tf.int32,[None,10])\n",
    "predicted_output = forward_propogation( input_ , weight , bias)\n",
    "\n"
   ]
  },
  {
   "cell_type": "code",
   "execution_count": 18,
   "metadata": {},
   "outputs": [],
   "source": [
    "# using inbuilt cost function of tensor flow \n",
    "# taking mean of cost for better undersatnding\n",
    "cost=tf.reduce_mean(tf.nn.softmax_cross_entropy_with_logits_v2(logits=predicted_output ,labels =true_output ))\n"
   ]
  },
  {
   "cell_type": "code",
   "execution_count": 19,
   "metadata": {},
   "outputs": [],
   "source": [
    "# using inbuilt optimizer for back propogation \n",
    "# using learning rate of 0.01\n",
    "optimizer=tf.train.AdamOptimizer(learning_rate=0.01)\n",
    "optimize=optimizer.minimize(cost)\n",
    "\n"
   ]
  },
  {
   "cell_type": "code",
   "execution_count": 20,
   "metadata": {},
   "outputs": [],
   "source": [
    "# creating session\n",
    "# initializing varaibles\n",
    "sess=tf.Session()\n",
    "sess.run(tf.global_variables_initializer())"
   ]
  },
  {
   "cell_type": "code",
   "execution_count": 21,
   "metadata": {},
   "outputs": [
    {
     "name": "stdout",
     "output_type": "stream",
     "text": [
      "2549.2124\n",
      "1423.6493\n",
      "1169.0378\n",
      "1062.1869\n",
      "896.26294\n",
      "741.13556\n",
      "642.6586\n",
      "532.86255\n",
      "416.50348\n",
      "321.95053\n",
      "250.68222\n",
      "198.70699\n",
      "168.53387\n",
      "160.34851\n",
      "165.99974\n",
      "173.03168\n",
      "171.61789\n",
      "159.50366\n",
      "141.4951\n",
      "124.10392\n",
      "111.06995\n",
      "102.40938\n",
      "96.97776\n",
      "93.48932\n",
      "90.9689\n",
      "88.9557\n",
      "86.848854\n",
      "84.2534\n",
      "81.033455\n",
      "77.419685\n",
      "73.85357\n",
      "70.67446\n",
      "67.93321\n",
      "65.61331\n",
      "63.45066\n",
      "61.404255\n",
      "59.452515\n",
      "57.617855\n",
      "55.9364\n",
      "54.39458\n",
      "53.00181\n",
      "51.644817\n",
      "50.31241\n",
      "49.018253\n",
      "47.823326\n",
      "46.749416\n",
      "45.772\n",
      "44.829197\n",
      "43.85797\n",
      "42.81678\n"
     ]
    }
   ],
   "source": [
    "# running the optimizer for number of times so that network gets better train\n",
    "# as cost depends on predicted_output ( which in turn depend on input_ ) and true_output\n",
    "# it is neccesary to provide input_ and true_output during run\n",
    "for i in range(50):\n",
    "    cur_cost,_= sess.run([cost,optimize], feed_dict={input_ : mnist.train.images , true_output : mnist.train.labels})\n",
    "    print(cur_cost)"
   ]
  },
  {
   "cell_type": "code",
   "execution_count": 22,
   "metadata": {},
   "outputs": [
    {
     "data": {
      "text/plain": [
       "8910"
      ]
     },
     "execution_count": 22,
     "metadata": {},
     "output_type": "execute_result"
    }
   ],
   "source": [
    "#finding the accuracy by comparing on testing data\n",
    "predicted_label = tf.argmax( predicted_output,1)\n",
    "true_label = tf.argmax( true_output ,1)\n",
    "correct_pred = tf.equal( predicted_label , true_label )\n",
    "pred , true , correct = sess.run([ predicted_label , true_label , correct_pred ], \n",
    "                                 feed_dict={ input_:mnist.test.images , true_output : mnist.test.labels })\n",
    "correct.sum()"
   ]
  },
  {
   "cell_type": "markdown",
   "metadata": {},
   "source": [
    "Gets an Accuracy of neraly 89% on mnist data using covolutional neural network "
   ]
  },
  {
   "cell_type": "code",
   "execution_count": null,
   "metadata": {},
   "outputs": [],
   "source": []
  },
  {
   "cell_type": "code",
   "execution_count": 24,
   "metadata": {},
   "outputs": [],
   "source": [
    "# again creating session\n",
    "# again initializing varaibles for better comparsion\n",
    "sess=tf.Session()\n",
    "sess.run(tf.global_variables_initializer())"
   ]
  },
  {
   "cell_type": "code",
   "execution_count": 25,
   "metadata": {
    "scrolled": true
   },
   "outputs": [
    {
     "name": "stdout",
     "output_type": "stream",
     "text": [
      "25781.377021551132\n",
      "4877.668698579617\n",
      "2753.1169444911043\n",
      "1825.081745321756\n",
      "1614.3661358693967\n",
      "1330.566154648521\n",
      "1174.615960496594\n",
      "1062.7053401165322\n",
      "996.603897047313\n",
      "848.6206973731443\n",
      "731.7193289295018\n",
      "622.7096800606218\n",
      "636.212024634063\n",
      "541.6543423137944\n",
      "469.9296332967614\n",
      "468.3468236002309\n",
      "450.8600732719657\n",
      "338.16311857667773\n",
      "346.22500121690814\n",
      "312.5768464898603\n"
     ]
    }
   ],
   "source": [
    "# again running the optimizer for number of times so that network gets better train\n",
    "# taking batch size of 100\n",
    "# number of batches equal to n/batch size\n",
    "# cost of one run equal to sum of cost due to each batch\n",
    "batch_size=100\n",
    "for i in range(20):\n",
    "    total_batches = int(mnist.train.num_examples/batch_size)\n",
    "    total_cost=0\n",
    "    for j in range(total_batches):\n",
    "            batch_x ,batch_y = mnist.train.next_batch(batch_size)\n",
    "            cur_cost,_= sess.run([cost,optimize], feed_dict={input_ : batch_x , true_output :batch_y })\n",
    "            total_cost+=cur_cost\n",
    "    print(total_cost)"
   ]
  },
  {
   "cell_type": "code",
   "execution_count": 27,
   "metadata": {},
   "outputs": [
    {
     "data": {
      "text/plain": [
       "9631"
      ]
     },
     "execution_count": 27,
     "metadata": {},
     "output_type": "execute_result"
    }
   ],
   "source": [
    "#finding the accuracy by comparing on testing data\n",
    "predicted_label = tf.argmax( predicted_output,1)\n",
    "true_label = tf.argmax( true_output ,1)\n",
    "correct_pred = tf.equal( predicted_label , true_label )\n",
    "pred , true , correct = sess.run([ predicted_label , true_label , correct_pred ], \n",
    "                                 feed_dict={ input_:mnist.test.images , true_output : mnist.test.labels })\n",
    "correct.sum()"
   ]
  },
  {
   "cell_type": "markdown",
   "metadata": {},
   "source": [
    "Gets an final accuracy of 96% which is much better than the previous one  "
   ]
  }
 ],
 "metadata": {
  "kernelspec": {
   "display_name": "Python 3",
   "language": "python",
   "name": "python3"
  },
  "language_info": {
   "codemirror_mode": {
    "name": "ipython",
    "version": 3
   },
   "file_extension": ".py",
   "mimetype": "text/x-python",
   "name": "python",
   "nbconvert_exporter": "python",
   "pygments_lexer": "ipython3",
   "version": "3.7.3"
  }
 },
 "nbformat": 4,
 "nbformat_minor": 2
}
